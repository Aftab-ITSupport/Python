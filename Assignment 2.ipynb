{
 "cells": [
  {
   "cell_type": "code",
   "execution_count": 7,
   "id": "8b51af78",
   "metadata": {},
   "outputs": [
    {
     "name": "stdout",
     "output_type": "stream",
     "text": [
      "6\n",
      "3\n"
     ]
    }
   ],
   "source": [
    "def fix_teen(n):\n",
    "    \n",
    "    if 13 <= n <= 19:\n",
    "        return 0\n",
    "    return n\n",
    "\n",
    "def no_teen_sum(a, b, c):\n",
    "   \n",
    "    a = fix_teen(a)\n",
    "    b = fix_teen(b)\n",
    "    c = fix_teen(c)\n",
    "    \n",
    "    \n",
    "    return a + b + c\n",
    "\n",
    "\n",
    "result = no_teen_sum(1, 2, 3)\n",
    "print(result)  \n",
    "\n",
    "result = no_teen_sum(2, 13, 1)\n",
    "print(result)  \n"
   ]
  },
  {
   "cell_type": "code",
   "execution_count": 10,
   "id": "204132c9",
   "metadata": {},
   "outputs": [
    {
     "name": "stdout",
     "output_type": "stream",
     "text": [
      "lowercase = 16\n",
      "uppercase = 2\n",
      "digits = 3\n",
      "special symbols = 2\n"
     ]
    }
   ],
   "source": [
    "def count_characters(s):\n",
    "    lowercase = sum(1 for char in s if char.islower())\n",
    "    uppercase = sum(1 for char in s if char.isupper())\n",
    "    digits = sum(1 for char in s if char.isdigit())\n",
    "    special = len(s) - (lowercase + uppercase + digits)\n",
    "    \n",
    "    return lowercase, uppercase, digits, special\n",
    "\n",
    "\n",
    "input_string = \"AftabRehan675@gmail.com\"\n",
    "lowercase, uppercase, digits, special = count_characters(input_string)\n",
    "\n",
    "print(\"lowercase =\", lowercase)\n",
    "print(\"uppercase =\", uppercase)\n",
    "print(\"digits =\", digits)\n",
    "print(\"special symbols =\", special)\n"
   ]
  },
  {
   "cell_type": "code",
   "execution_count": 11,
   "id": "b344d50a",
   "metadata": {},
   "outputs": [
    {
     "name": "stdout",
     "output_type": "stream",
     "text": [
      "Sum = 8\n",
      "Average is 2.0\n"
     ]
    }
   ],
   "source": [
    "def sum_and_average_of_digits(s):\n",
    "    digits = [int(char) for char in s if char.isdigit()]\n",
    "    \n",
    "    if digits:\n",
    "        digit_sum = sum(digits)\n",
    "        average = digit_sum / len(digits)\n",
    "    else:\n",
    "        digit_sum = 0\n",
    "        average = 0\n",
    "    \n",
    "    return digit_sum, average\n",
    "\n",
    "\n",
    "input_string = \"Q-301 is at 4 th floor of quaid block.\"\n",
    "digit_sum, average = sum_and_average_of_digits(input_string)\n",
    "\n",
    "print(\"Sum =\", digit_sum)\n",
    "print(\"Average is\", average)\n"
   ]
  },
  {
   "cell_type": "code",
   "execution_count": 13,
   "id": "40b9aa96",
   "metadata": {},
   "outputs": [
    {
     "name": "stdout",
     "output_type": "stream",
     "text": [
      "min = 1, max = 40, difference = 39\n"
     ]
    }
   ],
   "source": [
    "def difference_between_max_and_min(arr):\n",
    "    if len(arr) < 1:\n",
    "        return \"Array must have at least one element\"\n",
    "    \n",
    "    min_val = min(arr)\n",
    "    max_val = max(arr)\n",
    "    \n",
    "    difference = max_val - min_val\n",
    "    \n",
    "    return f\"min = {min_val}, max = {max_val}, difference = {difference}\"\n",
    "\n",
    "\n",
    "input_array = [1, 2, 3, 4, 5, 8, 9, 10, 15, 40, 3]\n",
    "result = difference_between_max_and_min(input_array)\n",
    "print(result)\n",
    "\n"
   ]
  },
  {
   "cell_type": "code",
   "execution_count": 14,
   "id": "5f4d4adc",
   "metadata": {},
   "outputs": [
    {
     "name": "stdout",
     "output_type": "stream",
     "text": [
      "count = 2\n"
     ]
    }
   ],
   "source": [
    "import re\n",
    "\n",
    "def count_ant_variations(s):\n",
    "    # Use a regular expression to find all variations of \"ant\"\n",
    "    pattern = r'a[abcdefghijklmnopqrstuvwxyz]t'\n",
    "    matches = re.findall(pattern, s, re.IGNORECASE)\n",
    "    \n",
    "    return len(matches)\n",
    "\n",
    "# Example usage:\n",
    "input_string = \"Antandart\"\n",
    "count = count_ant_variations(input_string)\n",
    "print(\"count =\", count)\n"
   ]
  },
  {
   "cell_type": "code",
   "execution_count": null,
   "id": "9e771aab",
   "metadata": {},
   "outputs": [],
   "source": []
  }
 ],
 "metadata": {
  "kernelspec": {
   "display_name": "Python 3 (ipykernel)",
   "language": "python",
   "name": "python3"
  },
  "language_info": {
   "codemirror_mode": {
    "name": "ipython",
    "version": 3
   },
   "file_extension": ".py",
   "mimetype": "text/x-python",
   "name": "python",
   "nbconvert_exporter": "python",
   "pygments_lexer": "ipython3",
   "version": "3.11.5"
  }
 },
 "nbformat": 4,
 "nbformat_minor": 5
}
