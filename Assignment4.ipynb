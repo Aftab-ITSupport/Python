{
 "cells": [
  {
   "cell_type": "code",
   "execution_count": 3,
   "id": "19333d34",
   "metadata": {},
   "outputs": [
    {
     "name": "stdout",
     "output_type": "stream",
     "text": [
      "[('Chemistry', 87), ('Physics', 83), ('Math', 81)]\n"
     ]
    }
   ],
   "source": [
    "from collections import Counter\n",
    "\n",
    "# Data sample\n",
    "my_data = {'Math': 81, 'Physics': 83, 'Chemistry': 87}\n",
    "\n",
    "# Set the Counter \n",
    "sorted_data = sorted(data.items(), key=lambda item: item[1], reverse=True)\n",
    "\n",
    "print(sorted_data)\n"
   ]
  },
  {
   "cell_type": "code",
   "execution_count": 4,
   "id": "fcc1c818",
   "metadata": {},
   "outputs": [
    {
     "name": "stdout",
     "output_type": "stream",
     "text": [
      "Json file to dictionary:\n",
      "{'students': [{'firstName': 'Nikki', 'lastName': 'Roysden'}, {'firstName': 'Mervin', 'lastName': 'Friedland'}, {'firstName': 'Aron', 'lastName': 'Wilkins'}], 'teachers': [{'firstName': 'Amberly', 'lastName': 'Calico'}, {'firstName': 'Regine', 'lastName': 'Agtarap'}]}\n"
     ]
    }
   ],
   "source": [
    "import json\n",
    "\n",
    "# Original dictionary\n",
    "original_dict = {\n",
    "    'students': [\n",
    "        {'firstName': 'Nikki', 'lastName': 'Roysden'},\n",
    "        {'firstName': 'Mervin', 'lastName': 'Friedland'},\n",
    "        {'firstName': 'Aron', 'lastName': 'Wilkins'}\n",
    "    ],\n",
    "    'teachers': [\n",
    "        {'firstName': 'Amberly', 'lastName': 'Calico'},\n",
    "        {'firstName': 'Regine', 'lastName': 'Agtarap'}\n",
    "    ]\n",
    "}\n",
    "\n",
    "# Set the path of JSON\n",
    "json_file_path = 'data.json'\n",
    "\n",
    "# Write the dictionary to a JSON file\n",
    "with open(json_file_path, 'w') as json_file:\n",
    "    json.dump(original_dict, json_file)\n",
    "\n",
    "# Read the JSON file back into a dictionary\n",
    "with open(json_file_path, 'r') as json_file:\n",
    "    loaded_dict = json.load(json_file)\n",
    "\n",
    "# Print the dictionary\n",
    "print(\"Json file to dictionary:\")\n",
    "print(loaded_dict)\n"
   ]
  },
  {
   "cell_type": "code",
   "execution_count": 5,
   "id": "59e5231f",
   "metadata": {},
   "outputs": [
    {
     "name": "stdout",
     "output_type": "stream",
     "text": [
      "Remove id #FF0000 from the said list of dictionary:\n",
      "[{'id': '#800000', 'color': 'Maroon'}, {'id': '#FFFF00', 'color': 'Yellow'}, {'id': '#808000', 'color': 'Olive'}]\n"
     ]
    }
   ],
   "source": [
    "\n",
    "original_list = [\n",
    "    {'id': '#FF0000', 'color': 'Red'},\n",
    "    {'id': '#800000', 'color': 'Maroon'},\n",
    "    {'id': '#FFFF00', 'color': 'Yellow'},\n",
    "    {'id': '#808000', 'color': 'Olive'}\n",
    "]\n",
    "\n",
    "id_to_remove = '#FF0000'\n",
    "\n",
    "updated_list = [d for d in original_list if d['id'] != id_to_remove]\n",
    "\n",
    "print(\"Remove id\", id_to_remove, \"from the said list of dictionary:\")\n",
    "print(updated_list)\n"
   ]
  },
  {
   "cell_type": "code",
   "execution_count": 6,
   "id": "27ccfec2",
   "metadata": {},
   "outputs": [
    {
     "name": "stdout",
     "output_type": "stream",
     "text": [
      "Enter a long string with multiple words: Pakistan in live I\n",
      "Output: I live in Pakistan\n"
     ]
    }
   ],
   "source": [
    "def reverse_words_order(sentence):\n",
    "   #splitting\n",
    "    words = sentence.split()\n",
    "\n",
    "    # Reversing\n",
    "    reversed_words = words[::-1]\n",
    "\n",
    "    # Joining\n",
    "    reversed_sentence = ' '.join(reversed_words)\n",
    "\n",
    "    return reversed_sentence\n",
    "\n",
    "input_string = input(\"Enter a long string with multiple words: \")\n",
    "\n",
    "\n",
    "output_string = reverse_words_order(input_string)\n",
    "print(\"Output:\", output_string)\n"
   ]
  },
  {
   "cell_type": "code",
   "execution_count": 7,
   "id": "84b31d6b",
   "metadata": {},
   "outputs": [
    {
     "name": "stdout",
     "output_type": "stream",
     "text": [
      "BFS Result: ['A', 'B', 'C', 'D', 'E', 'F']\n"
     ]
    }
   ],
   "source": [
    "graph = {\n",
    "    'A': ['B', 'C'],\n",
    "    'B': ['A', 'D', 'E'],\n",
    "    'C': ['A', 'F'],\n",
    "    'D': ['B'],\n",
    "    'E': ['B', 'F'],\n",
    "    'F': ['C', 'E']\n",
    "}\n",
    "from collections import deque\n",
    "\n",
    "def bfs(graph, start):\n",
    "    visited = set()\n",
    "    queue = deque([start])\n",
    "    result = []\n",
    "\n",
    "    while queue:\n",
    "        node = queue.popleft()\n",
    "        if node not in visited:\n",
    "            result.append(node)\n",
    "            visited.add(node)\n",
    "            queue.extend(neighbour for neighbour in graph[node] if neighbour not in visited)\n",
    "\n",
    "    return result\n",
    "\n",
    "# Example usage of BFS\n",
    "start_node = 'A'\n",
    "bfs_result = bfs(graph, start_node)\n",
    "print(\"BFS Result:\", bfs_result)\n"
   ]
  },
  {
   "cell_type": "code",
   "execution_count": 8,
   "id": "d4400452",
   "metadata": {},
   "outputs": [
    {
     "name": "stdout",
     "output_type": "stream",
     "text": [
      "DFS Result: ['A', 'B', 'D', 'E', 'F', 'C']\n"
     ]
    }
   ],
   "source": [
    "graph = {\n",
    "    'A': ['B', 'C'],\n",
    "    'B': ['A', 'D', 'E'],\n",
    "    'C': ['A', 'F'],\n",
    "    'D': ['B'],\n",
    "    'E': ['B', 'F'],\n",
    "    'F': ['C', 'E']\n",
    "}\n",
    "def dfs(graph, node, visited):\n",
    "    if node not in visited:\n",
    "        visited.add(node)\n",
    "        result.append(node)\n",
    "        for neighbor in graph[node]:\n",
    "            dfs(graph, neighbor, visited)\n",
    "\n",
    "visited = set()\n",
    "result = []\n",
    "\n",
    "# Example usage of DFS\n",
    "start_node = 'A'\n",
    "dfs(graph, start_node, visited)\n",
    "print(\"DFS Result:\", result)\n"
   ]
  },
  {
   "cell_type": "code",
   "execution_count": 10,
   "id": "20c6911c",
   "metadata": {
    "scrolled": true
   },
   "outputs": [
    {
     "name": "stdout",
     "output_type": "stream",
     "text": [
      "The 6th Fibonacci number is: 8\n"
     ]
    }
   ],
   "source": [
    "def fibonacci(n):\n",
    "    if n <= 1:\n",
    "        return n\n",
    "    else:\n",
    "        return fibonacci(n-1) + fibonacci(n-2)\n",
    "\n",
    "# Test the function for N = 6\n",
    "n = 6\n",
    "result = fibonacci(n)\n",
    "\n",
    "# Print the result\n",
    "print(f\"The {n}th Fibonacci number is:\", result)\n"
   ]
  },
  {
   "cell_type": "code",
   "execution_count": null,
   "id": "0aa4b872",
   "metadata": {},
   "outputs": [],
   "source": []
  }
 ],
 "metadata": {
  "kernelspec": {
   "display_name": "Python 3 (ipykernel)",
   "language": "python",
   "name": "python3"
  },
  "language_info": {
   "codemirror_mode": {
    "name": "ipython",
    "version": 3
   },
   "file_extension": ".py",
   "mimetype": "text/x-python",
   "name": "python",
   "nbconvert_exporter": "python",
   "pygments_lexer": "ipython3",
   "version": "3.11.5"
  }
 },
 "nbformat": 4,
 "nbformat_minor": 5
}
