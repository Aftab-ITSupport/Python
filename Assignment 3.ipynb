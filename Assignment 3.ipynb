{
 "cells": [
  {
   "cell_type": "code",
   "execution_count": 1,
   "id": "05ef9db4",
   "metadata": {},
   "outputs": [
    {
     "name": "stdout",
     "output_type": "stream",
     "text": [
      "* \n",
      "* * \n",
      "* * * \n",
      "* * * * \n",
      "* * * * * \n",
      "* * * * \n",
      "* * * \n",
      "* * \n",
      "* \n"
     ]
    }
   ],
   "source": [
    "# Number of rows \n",
    "n = 5\n",
    "\n",
    "# Upper part \n",
    "for i in range(1, n + 1):\n",
    "    for j in range(i):\n",
    "        print(\"*\", end=\" \")\n",
    "    print()\n",
    "\n",
    "# Lower part \n",
    "for i in range(n - 1, 0, -1):\n",
    "    for j in range(i):\n",
    "        print(\"*\", end=\" \")\n",
    "    print()\n"
   ]
  },
  {
   "cell_type": "code",
   "execution_count": 6,
   "id": "c059be9f",
   "metadata": {},
   "outputs": [
    {
     "name": "stdout",
     "output_type": "stream",
     "text": [
      "Output: 1010\n"
     ]
    }
   ],
   "source": [
    "def binary_divisible_by_5(input_str):\n",
    "    binary_numbers = input_str.split(',')\n",
    "    result = []\n",
    "\n",
    "    for num in binary_numbers:\n",
    "        decimal_value = int(num, 2)\n",
    "        if decimal_value % 5 == 0:\n",
    "            result.append(num)\n",
    "\n",
    "    return ','.join(result)\n",
    "\n",
    "# Sample Data\n",
    "input_data = \"0100,0011,1010,1001,1100,1001\"\n",
    "output = binary_divisible_by_5(input_data)\n",
    "\n",
    "print(\"Output:\", output)"
   ]
  },
  {
   "cell_type": "code",
   "execution_count": 5,
   "id": "2c3a7dd8",
   "metadata": {},
   "outputs": [
    {
     "name": "stdout",
     "output_type": "stream",
     "text": [
      "List of months: January, February, March, April, May, June, July, August, September, October, November, December\n",
      "Input the name of Month: March\n",
      "No. of days: 31 days\n"
     ]
    }
   ],
   "source": [
    "# create dictionary\n",
    "month_days = {\n",
    "    'January': 31,\n",
    "    'February': '28/29',\n",
    "    'March': 31,\n",
    "    'April': 30,\n",
    "    'May': 31,\n",
    "    'June': 30,\n",
    "    'July': 31,\n",
    "    'August': 31,\n",
    "    'September': 30,\n",
    "    'October': 31,\n",
    "    'November': 30,\n",
    "    'December': 31\n",
    "}\n",
    "\n",
    "# List of month names\n",
    "months = list(month_days.keys())\n",
    "\n",
    "# Display the list of months\n",
    "print(\"List of months:\", \", \".join(months))\n",
    "\n",
    "# Input the name of the month\n",
    "month_name = input(\"Input the name of Month: \")\n",
    "\n",
    "# Check if the input is a valid month name\n",
    "if month_name in month_days:\n",
    "    days = month_days[month_name]\n",
    "    print(f\"No. of days: {days} days\")\n",
    "else:\n",
    "    print(\"Invalid month name. Please enter a valid month.\")\n"
   ]
  },
  {
   "cell_type": "code",
   "execution_count": null,
   "id": "03c7a2f0",
   "metadata": {},
   "outputs": [],
   "source": []
  }
 ],
 "metadata": {
  "kernelspec": {
   "display_name": "Python 3 (ipykernel)",
   "language": "python",
   "name": "python3"
  },
  "language_info": {
   "codemirror_mode": {
    "name": "ipython",
    "version": 3
   },
   "file_extension": ".py",
   "mimetype": "text/x-python",
   "name": "python",
   "nbconvert_exporter": "python",
   "pygments_lexer": "ipython3",
   "version": "3.11.5"
  }
 },
 "nbformat": 4,
 "nbformat_minor": 5
}
