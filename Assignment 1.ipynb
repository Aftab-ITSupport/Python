{
 "cells": [
  {
   "cell_type": "code",
   "execution_count": 1,
   "id": "af2c909d",
   "metadata": {},
   "outputs": [
    {
     "name": "stdout",
     "output_type": "stream",
     "text": [
      "He said, \"Don't do this\"\n"
     ]
    }
   ],
   "source": [
    "print('He said, \"Don\\'t do this\"')\n"
   ]
  },
  {
   "cell_type": "code",
   "execution_count": 2,
   "id": "d3352826",
   "metadata": {},
   "outputs": [
    {
     "name": "stdout",
     "output_type": "stream",
     "text": [
      "Options:\n",
      "Enter 'add' for addition\n",
      "Enter 'sub' for subtraction\n",
      "Enter 'mul' for multiplication\n",
      "Enter 'div' for division\n",
      "Enter 'quit' to end the program\n",
      ": add\n",
      "Enter first number: 2\n",
      "Enter second number: 3\n",
      "Result:  5.0\n",
      "Options:\n",
      "Enter 'add' for addition\n",
      "Enter 'sub' for subtraction\n",
      "Enter 'mul' for multiplication\n",
      "Enter 'div' for division\n",
      "Enter 'quit' to end the program\n",
      ": quit\n"
     ]
    }
   ],
   "source": [
    "while True:\n",
    "    # Take user input for the operation choice\n",
    "    print(\"Options:\")\n",
    "    print(\"Enter 'add' for addition\")\n",
    "    print(\"Enter 'sub' for subtraction\")\n",
    "    print(\"Enter 'mul' for multiplication\")\n",
    "    print(\"Enter 'div' for division\")\n",
    "    print(\"Enter 'quit' to end the program\")\n",
    "    \n",
    "    user_input = input(\": \")\n",
    "    \n",
    "    if user_input == \"quit\":\n",
    "        break\n",
    "    elif user_input in (\"add\", \"sub\", \"mul\", \"div\"):\n",
    "        # Take user input for two numbers\n",
    "        num1 = float(input(\"Enter first number: \"))\n",
    "        num2 = float(input(\"Enter second number: \"))\n",
    "        \n",
    "        if user_input == \"add\":\n",
    "            result = num1 + num2\n",
    "        elif user_input == \"sub\":\n",
    "            result = num1 - num2\n",
    "        elif user_input == \"mul\":\n",
    "            result = num1 * num2\n",
    "        elif user_input == \"div\":\n",
    "            if num2 == 0:\n",
    "                print(\"Error! Division by zero.\")\n",
    "                continue\n",
    "            result = num1 / num2\n",
    "        \n",
    "        print(\"Result: \", result)\n",
    "    else:\n",
    "        print(\"Invalid input. Please enter a valid operation (add, sub, mul, div) or 'quit'.\")\n"
   ]
  },
  {
   "cell_type": "code",
   "execution_count": 3,
   "id": "dc8b0348",
   "metadata": {},
   "outputs": [
    {
     "name": "stdout",
     "output_type": "stream",
     "text": [
      "Enter the first integer: 4\n",
      "Enter the second integer: 5\n",
      "Enter the third integer: 9\n",
      "The sum is: 18\n"
     ]
    }
   ],
   "source": [
    "\n",
    "num1 = int(input(\"Enter the first integer: \"))\n",
    "num2 = int(input(\"Enter the second integer: \"))\n",
    "num3 = int(input(\"Enter the third integer: \"))\n",
    "\n",
    "\n",
    "if num1 == num2 or num2 == num3 or num1 == num3:\n",
    "    result = 0\n",
    "else:\n",
    "    result = num1 + num2 + num3\n",
    "\n",
    "# Print the result\n",
    "print(\"The sum is:\", result)\n"
   ]
  },
  {
   "cell_type": "code",
   "execution_count": 4,
   "id": "c79bb16a",
   "metadata": {},
   "outputs": [
    {
     "name": "stdout",
     "output_type": "stream",
     "text": [
      "Enter the radius of the circle: 5\n",
      "The area of the circle with radius 5.0 is: 78.53981633974483\n"
     ]
    }
   ],
   "source": [
    "import math\n",
    "\n",
    "\n",
    "radius = float(input(\"Enter the radius of the circle: \"))\n",
    "\n",
    "\n",
    "area = math.pi * (radius ** 2)\n",
    "\n",
    "\n",
    "print(\"The area of the circle with radius\", radius, \"is:\", area)\n"
   ]
  },
  {
   "cell_type": "code",
   "execution_count": 6,
   "id": "e798344e",
   "metadata": {},
   "outputs": [
    {
     "name": "stdout",
     "output_type": "stream",
     "text": [
      "String: aftab is 50 km away\n",
      "Sum of digits: 5\n",
      "Average of digits: 2.5\n"
     ]
    }
   ],
   "source": [
    "\n",
    "input_string = input(\"String: \")\n",
    "\n",
    "digit_sum = 0\n",
    "digit_count = 0\n",
    "\n",
    "for char in input_string:\n",
    "    if char.isdigit():  \n",
    "        digit_sum += int(char)  \n",
    "        digit_count += 1 \n",
    "\n",
    "\n",
    "if digit_count > 0:\n",
    "    digit_average = digit_sum / digit_count\n",
    "else:\n",
    "    digit_average = 0\n",
    "\n",
    "print(\"Sum of digits:\", digit_sum)\n",
    "print(\"Average of digits:\", digit_average)\n"
   ]
  },
  {
   "cell_type": "code",
   "execution_count": 7,
   "id": "c2c67bbe",
   "metadata": {},
   "outputs": [
    {
     "name": "stdout",
     "output_type": "stream",
     "text": [
      "Input: (3, 1, 4) ; Output: Sum = 8\n",
      "Input: (21, 1, 2) ; Output: Sum = 24\n",
      "Input: (13, 1, 19) ; Output: Sum = 1\n"
     ]
    }
   ],
   "source": [
    "def fix_teen(n):\n",
    "    # Check if n is a teen (in the range 13..19 inclusive)\n",
    "    return 0 if 13 <= n <= 19 else n\n",
    "\n",
    "def no_teen_sum(a, b, c):\n",
    "  \n",
    "    a = fix_teen(a)\n",
    "    b = fix_teen(b)\n",
    "    c = fix_teen(c)\n",
    "    \n",
    "   \n",
    "    total_sum = a + b + c\n",
    "    \n",
    "    return total_sum\n",
    "\n",
    "\n",
    "input1 = (3, 1, 4)\n",
    "input2 = (21, 1, 2)\n",
    "input3 = (13, 1, 19)\n",
    "\n",
    "output1 = no_teen_sum(*input1)\n",
    "output2 = no_teen_sum(*input2)\n",
    "output3 = no_teen_sum(*input3)\n",
    "\n",
    "print(\"Input:\", input1, \"; Output: Sum =\", output1)\n",
    "print(\"Input:\", input2, \"; Output: Sum =\", output2)\n",
    "print(\"Input:\", input3, \"; Output: Sum =\", output3)\n"
   ]
  },
  {
   "cell_type": "code",
   "execution_count": 8,
   "id": "b4664280",
   "metadata": {},
   "outputs": [
    {
     "name": "stdout",
     "output_type": "stream",
     "text": [
      "String: aftabbhai543@gmail.com\n",
      "lowercase = 17\n",
      "uppercase = 0\n",
      "special symbols = 2\n",
      "digits = 3\n"
     ]
    }
   ],
   "source": [
    "\n",
    "input_string = input(\"String: \")\n",
    "\n",
    "\n",
    "lowercase_count = 0\n",
    "uppercase_count = 0\n",
    "digit_count = 0\n",
    "special_symbol_count = 0\n",
    "\n",
    "\n",
    "for char in input_string:\n",
    "    if char.islower():\n",
    "        lowercase_count += 1\n",
    "    elif char.isupper():\n",
    "        uppercase_count += 1\n",
    "    elif char.isdigit():\n",
    "        digit_count += 1\n",
    "    else:\n",
    "        special_symbol_count += 1\n",
    "\n",
    "\n",
    "print(\"lowercase =\", lowercase_count)\n",
    "print(\"uppercase =\", uppercase_count)\n",
    "print(\"special symbols =\", special_symbol_count)\n",
    "print(\"digits =\", digit_count)\n"
   ]
  },
  {
   "cell_type": "code",
   "execution_count": null,
   "id": "088b1c87",
   "metadata": {},
   "outputs": [],
   "source": []
  }
 ],
 "metadata": {
  "kernelspec": {
   "display_name": "Python 3 (ipykernel)",
   "language": "python",
   "name": "python3"
  },
  "language_info": {
   "codemirror_mode": {
    "name": "ipython",
    "version": 3
   },
   "file_extension": ".py",
   "mimetype": "text/x-python",
   "name": "python",
   "nbconvert_exporter": "python",
   "pygments_lexer": "ipython3",
   "version": "3.11.5"
  }
 },
 "nbformat": 4,
 "nbformat_minor": 5
}
